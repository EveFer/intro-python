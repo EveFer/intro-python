{
 "cells": [
  {
   "cell_type": "markdown",
   "metadata": {},
   "source": [
    "## Ejercicio: Uso de funciones en Python"
   ]
  },
  {
   "cell_type": "code",
   "execution_count": 1,
   "metadata": {},
   "outputs": [
    {
     "name": "stdout",
     "output_type": "stream",
     "text": [
      "El reporte generado es: El tanque_1 = 100, tanque_2 = 23, tanque_3 = 12 y el promedio es 45.0\n"
     ]
    }
   ],
   "source": [
    "def get_average (*tanques):\n",
    "    return sum(tanques) / len(tanques)\n",
    "\n",
    "def get_informe(tanque_1, tanque_2, tanque_3) :\n",
    "    return f\"\"\"El tanque_1 = {tanque_1}, tanque_2 = {tanque_2}, tanque_3 = {tanque_3} y el promedio es {get_average(tanque_1, tanque_2, tanque_3)}\"\"\"\n",
    "\n",
    "print(f'El reporte generado es: {get_informe(100, 23, 12)}')\n",
    "\n",
    "\n",
    "\n"
   ]
  },
  {
   "cell_type": "markdown",
   "metadata": {},
   "source": [
    "## Ejercicio 2: Trabajo con argumentos de palabra clave"
   ]
  },
  {
   "cell_type": "code",
   "execution_count": 2,
   "metadata": {},
   "outputs": [
    {
     "name": "stdout",
     "output_type": "stream",
     "text": [
      "Primer reporte Reporte:\n",
      "        destino: Moon,\n",
      "        time: 35,\n",
      "        tanque: 680\n",
      "    \n",
      "Segundo reporte:  Reporte:\n",
      "        destino: Moon\n",
      "        tiempo: 46 minutes\n",
      "        tanques: 357\n",
      "    \n"
     ]
    }
   ],
   "source": [
    "# Función con un informe preciso de la misión. Considera hora de prelanzamiento, tiempo de vuelo, destino, tanque externo y tanque interno\n",
    "\n",
    "def get_informe(destino, tiempo_prelanzamineto, tiempo_vuelo, tanque_externo, tanque_interno):\n",
    "    return f\"\"\"Reporte:\n",
    "        destino: {destino},\n",
    "        time: {tiempo_prelanzamineto + tiempo_vuelo},\n",
    "        tanque: {tanque_interno + tanque_externo}\n",
    "    \"\"\"\n",
    "\n",
    "print('Primer reporte', get_informe('Moon', 12, 23, 230, 450))\n",
    "\n",
    "def get_informe_new(destino, *time, **tanques):\n",
    "    return f\"\"\"Reporte:\n",
    "        destino: {destino}\n",
    "        tiempo: {sum(time)} minutes\n",
    "        tanques: {sum(tanques.values())}\n",
    "    \"\"\"\n",
    "\n",
    "print('Segundo reporte: ', get_informe_new('Moon', 12, 34, tanque_1=123, tanque_2=234))"
   ]
  }
 ],
 "metadata": {
  "interpreter": {
   "hash": "31f2aee4e71d21fbe5cf8b01ff0e069b9275f58929596ceb00d14d90e3e16cd6"
  },
  "kernelspec": {
   "display_name": "Python 3.8.2 64-bit",
   "language": "python",
   "name": "python3"
  },
  "language_info": {
   "codemirror_mode": {
    "name": "ipython",
    "version": 3
   },
   "file_extension": ".py",
   "mimetype": "text/x-python",
   "name": "python",
   "nbconvert_exporter": "python",
   "pygments_lexer": "ipython3",
   "version": "3.8.2"
  },
  "orig_nbformat": 4
 },
 "nbformat": 4,
 "nbformat_minor": 2
}
