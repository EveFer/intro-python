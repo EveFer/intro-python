{
 "cells": [
  {
   "cell_type": "markdown",
   "metadata": {},
   "source": [
    "## Ejercicio1 - Utilizar operadores aritméticos\n",
    "\n",
    "Exploremos cómo podemos crear un programa que pueda calcular la distancia entre dos planetas. Comenzaremos usando dos distancias de planetas: Tierra (149.597.870 km) y Júpiter (778.547.200 km).\n",
    "\n",
    "### Realizar la operación\n",
    "Con los valores obtenidos, es el momento de añadir el código para realizar la operación. Restarás el primer planeta del segundo para determinar la distancia en kilómetros. A continuación, puedes convertir la distancia del kilómetro en millas multiplicándola por 1.609344."
   ]
  },
  {
   "cell_type": "code",
   "execution_count": 6,
   "metadata": {},
   "outputs": [
    {
     "name": "stdout",
     "output_type": "stream",
     "text": [
      "628949330\n",
      "390810874.13143003\n"
     ]
    }
   ],
   "source": [
    "distance_earth = 149597870\n",
    "distance_jupyter = 778547200\n",
    "\n",
    "distance = (distance_jupyter - distance_earth) \n",
    "\n",
    "print(distance)\n",
    "print(distance * 0.621371)\n"
   ]
  },
  {
   "cell_type": "code",
   "execution_count": 7,
   "metadata": {},
   "outputs": [
    {
     "name": "stdout",
     "output_type": "stream",
     "text": [
      "Distance en km:  50300000\n",
      "Distance en millar:  31254961.3\n"
     ]
    }
   ],
   "source": [
    "first_planet = int(input(\"Introduzca la distancia del primer planeta\"))\n",
    "second_planet = int(input(\"Introduzca la distancia del segundo planeta\"))\n",
    "\n",
    "distance_km = second_planet - first_planet\n",
    "\n",
    "distance_mll = distance_km * 0.621371\n",
    "\n",
    "print('Distance en km: ', distance_km)\n",
    "print('Distance en millar: ', distance_mll)\n",
    "\n"
   ]
  }
 ],
 "metadata": {
  "interpreter": {
   "hash": "31f2aee4e71d21fbe5cf8b01ff0e069b9275f58929596ceb00d14d90e3e16cd6"
  },
  "kernelspec": {
   "display_name": "Python 3.8.2 64-bit",
   "language": "python",
   "name": "python3"
  },
  "language_info": {
   "codemirror_mode": {
    "name": "ipython",
    "version": 3
   },
   "file_extension": ".py",
   "mimetype": "text/x-python",
   "name": "python",
   "nbconvert_exporter": "python",
   "pygments_lexer": "ipython3",
   "version": "3.8.2"
  },
  "orig_nbformat": 4
 },
 "nbformat": 4,
 "nbformat_minor": 2
}
