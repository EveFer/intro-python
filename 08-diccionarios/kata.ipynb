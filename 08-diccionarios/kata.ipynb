{
 "cells": [
  {
   "cell_type": "markdown",
   "metadata": {},
   "source": [
    "## Ejercicio 1: Creación de diccionarios de Python"
   ]
  },
  {
   "cell_type": "code",
   "execution_count": 6,
   "metadata": {},
   "outputs": [
    {
     "name": "stdout",
     "output_type": "stream",
     "text": [
      "El planeta Mars tiene 2 lunas\n",
      "El planeta Mars tiene 2 lunas\n",
      "El planeta Mars tiene una circunferencia polar de 6752km\n"
     ]
    }
   ],
   "source": [
    "planet = {\n",
    "    \"name\": \"Mars\",\n",
    "    \"moons\": 2\n",
    "}\n",
    "\n",
    "print(f'El planeta {planet[\"name\"]} tiene {planet[\"moons\"]} lunas')\n",
    "print(f'El planeta {planet.get(\"name\")} tiene {planet.get(\"moons\")} lunas')\n",
    "\n",
    "planet.update({\n",
    "    \"circumference (km)\": {\n",
    "        \"polar\": 6752,\n",
    "        \"equatorial\": 6792\n",
    "    }\n",
    "})\n",
    "\n",
    "print(f'El planeta {planet[\"name\"]} tiene una circunferencia polar de {planet[\"circumference (km)\"][\"polar\"]}km')"
   ]
  },
  {
   "cell_type": "markdown",
   "metadata": {},
   "source": [
    "## Ejercicio 2: Programación dinámica con diccionarios"
   ]
  },
  {
   "cell_type": "code",
   "execution_count": 12,
   "metadata": {},
   "outputs": [
    {
     "name": "stdout",
     "output_type": "stream",
     "text": [
      "El numero total de lunas del sistma sola es:  214\n",
      "El promedio de lunas en el sistema solar es:  17.833333333333332\n"
     ]
    }
   ],
   "source": [
    "planet_moons = {\n",
    "    'mercury': 0,\n",
    "    'venus': 0,\n",
    "    'earth': 1,\n",
    "    'mars': 2,\n",
    "    'jupiter': 79,\n",
    "    'saturn': 82,\n",
    "    'uranus': 27,\n",
    "    'neptune': 14,\n",
    "    'pluto': 5,\n",
    "    'haumea': 2,\n",
    "    'makemake': 1,\n",
    "    'eris': 1\n",
    "}\n",
    "\n",
    "# En este escenario, calcularás tanto el número total de lunas en el sistema solar como el número promedio de lunas que tiene un planeta.\n",
    "\n",
    "moons = planet_moons.values()\n",
    "planets = planet_moons.keys()\n",
    "\n",
    "total_moons = 0\n",
    "for num in moons:\n",
    "    total_moons += num\n",
    "\n",
    "print('El numero total de lunas del sistma sola es: ',total_moons)\n",
    "\n",
    "print('El promedio de lunas en el sistema solar es: ', total_moons/len(planets))"
   ]
  }
 ],
 "metadata": {
  "interpreter": {
   "hash": "31f2aee4e71d21fbe5cf8b01ff0e069b9275f58929596ceb00d14d90e3e16cd6"
  },
  "kernelspec": {
   "display_name": "Python 3.8.2 64-bit",
   "language": "python",
   "name": "python3"
  },
  "language_info": {
   "codemirror_mode": {
    "name": "ipython",
    "version": 3
   },
   "file_extension": ".py",
   "mimetype": "text/x-python",
   "name": "python",
   "nbconvert_exporter": "python",
   "pygments_lexer": "ipython3",
   "version": "3.8.2"
  },
  "orig_nbformat": 4
 },
 "nbformat": 4,
 "nbformat_minor": 2
}
