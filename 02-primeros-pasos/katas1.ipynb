{
 "cells": [
  {
   "cell_type": "markdown",
   "metadata": {},
   "source": [
    "## Mi primer programa en python"
   ]
  },
  {
   "cell_type": "markdown",
   "metadata": {},
   "source": [
    "1. Obtener la fecha actual:"
   ]
  },
  {
   "cell_type": "code",
   "execution_count": 1,
   "metadata": {},
   "outputs": [
    {
     "name": "stdout",
     "output_type": "stream",
     "text": [
      "Hoy estamos a: 2022-02-05\n"
     ]
    }
   ],
   "source": [
    "from datetime import date\n",
    "\n",
    "print('Hoy estamos a: ' + str(date.today()))"
   ]
  },
  {
   "cell_type": "markdown",
   "metadata": {},
   "source": [
    "2. Conversor entre parsecs y años luz"
   ]
  },
  {
   "cell_type": "code",
   "execution_count": 3,
   "metadata": {},
   "outputs": [
    {
     "name": "stdout",
     "output_type": "stream",
     "text": [
      "El valor en parsecs de 4Es igual a: 1.226406995425502e-05\n"
     ]
    }
   ],
   "source": [
    "# 1 parsec equivale a 3,26156 años luz.\n",
    "\n",
    "option = input('Ingresa 1: (parsecs a años luz) o Ingresa 2: (años luz a parsecs): ')\n",
    "\n",
    "if(int(option) == 1):\n",
    "    parsecs = input('Ingresa el numero de parsecs: ')\n",
    "    result = float(parsecs) * 326156\n",
    "    print('El valor en años luz de ' + parsecs + ' Es igual a: ' + str(result))\n",
    "else:\n",
    "    años_luz = input('Ingresa el número de años luz: ')\n",
    "    result = float(años_luz) / 326156\n",
    "    print('El valor en parsecs de ' + años_luz + ' Es igual a: ' + str(result))\n"
   ]
  }
 ],
 "metadata": {
  "interpreter": {
   "hash": "31f2aee4e71d21fbe5cf8b01ff0e069b9275f58929596ceb00d14d90e3e16cd6"
  },
  "kernelspec": {
   "display_name": "Python 3.8.2 64-bit",
   "language": "python",
   "name": "python3"
  },
  "language_info": {
   "codemirror_mode": {
    "name": "ipython",
    "version": 3
   },
   "file_extension": ".py",
   "mimetype": "text/x-python",
   "name": "python",
   "nbconvert_exporter": "python",
   "pygments_lexer": "ipython3",
   "version": "3.8.2"
  },
  "orig_nbformat": 4
 },
 "nbformat": 4,
 "nbformat_minor": 2
}
