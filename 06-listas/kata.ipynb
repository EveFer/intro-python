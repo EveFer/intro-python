{
 "cells": [
  {
   "cell_type": "markdown",
   "metadata": {},
   "source": [
    "## Crear y usar listas de Python\n"
   ]
  },
  {
   "cell_type": "code",
   "execution_count": 1,
   "metadata": {},
   "outputs": [
    {
     "name": "stdout",
     "output_type": "stream",
     "text": [
      "El némero de planetas =  8\n",
      "El némero de planetas ahora =  9\n",
      "El ultimo planeta es:  Plutón\n"
     ]
    }
   ],
   "source": [
    "planets = ['Mercury', 'Venus', 'Earth', 'Mars', 'Jupiter', 'Saturn', 'Uranus', 'Neptune']\n",
    "\n",
    "num_planets = len(planets)\n",
    "\n",
    "print('El número de planetas = ', num_planets)\n",
    "\n",
    "planets.append('Plutón')\n",
    "\n",
    "num_planets = len(planets)\n",
    "\n",
    "print('El número de planetas ahora son ', num_planets)\n",
    "print('El ultimo planeta es: ', planets[-1])"
   ]
  },
  {
   "cell_type": "code",
   "execution_count": 3,
   "metadata": {},
   "outputs": [
    {
     "name": "stdout",
     "output_type": "stream",
     "text": [
      "Los planetas más cercanos al sol son:  ['Mercury', 'Venus', 'Earth', 'Mars', 'Jupiter', 'Saturn']\n"
     ]
    }
   ],
   "source": [
    "planets = ['Mercury', 'Venus', 'Earth', 'Mars', 'Jupiter', 'Saturn', 'Neptune']\n",
    "\n",
    "planet_to_search = input('¿Qué planeta quieres buscar?')\n",
    "\n",
    "index_planet_found = planets.index(planet_to_search)\n",
    "\n",
    "\n",
    "if(index_planet_found != -1):\n",
    "    planets_near_sun = planets[0:index_planet_found]\n",
    "    print('Los planetas más cercanos al sol son: ', planets_near_sun)\n",
    "else:\n",
    "    print(\"No se encuentra el planeta o bien el nombre no es correcto\")"
   ]
  }
 ],
 "metadata": {
  "interpreter": {
   "hash": "31f2aee4e71d21fbe5cf8b01ff0e069b9275f58929596ceb00d14d90e3e16cd6"
  },
  "kernelspec": {
   "display_name": "Python 3.8.2 64-bit",
   "language": "python",
   "name": "python3"
  },
  "language_info": {
   "codemirror_mode": {
    "name": "ipython",
    "version": 3
   },
   "file_extension": ".py",
   "mimetype": "text/x-python",
   "name": "python",
   "nbconvert_exporter": "python",
   "pygments_lexer": "ipython3",
   "version": "3.8.2"
  },
  "orig_nbformat": 4
 },
 "nbformat": 4,
 "nbformat_minor": 2
}
