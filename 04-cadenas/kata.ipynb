{
 "cells": [
  {
   "cell_type": "markdown",
   "metadata": {},
   "source": [
    "## Ejercicio 1: Transformar cadenas\n",
    "\n",
    "El texto con el que trabajarás es el siguiente:"
   ]
  },
  {
   "cell_type": "markdown",
   "metadata": {},
   "source": [
    "1. Primero, divide el texto en cada oración para trabajar con su contenido:\n",
    "2. Ahora, define algunas palabras clave para búsqueda que te ayudarán a determinar si una oración contiene un hecho.\n",
    "3. Crea un bucle para imprimir solo datos sobre la Luna que estén relacionados con las palabras clave definidas anteriormente:\n",
    "4. Finalmente, actualiza el bucle(ciclo) para cambiar C a Celsius:"
   ]
  },
  {
   "cell_type": "code",
   "execution_count": 9,
   "metadata": {},
   "outputs": [
    {
     "name": "stdout",
     "output_type": "stream",
     "text": [
      "La oracion \" \n",
      "On average, the Moon moves 4cm away from the Earth every year\" contiene la palabra: [average]\n",
      "La oracion \" The highest daylight temperature of the Moon is 127 Celcius\" contiene la palabra: [temperature]\n"
     ]
    }
   ],
   "source": [
    "text = \"\"\"Interesting facts about the Moon. The Moon is Earth's only satellite. There are several interesting facts about the Moon and how it affects life here on Earth. \n",
    "On average, the Moon moves 4cm away from the Earth every year. This yearly drift is not significant enough to cause immediate effects on Earth. The highest daylight temperature of the Moon is 127 C.\"\"\"\n",
    "\n",
    "sentences = text.split('.')\n",
    "\n",
    "clue_1 = \"average\"\n",
    "clue_2 = \"temperature\"\n",
    "clue_3 = \"distance\"\n",
    "\n",
    "for sentence in sentences:\n",
    "    if clue_1 in sentence.lower(): \n",
    "        print(f'La oracion \"{sentence}\" contiene la palabra: [{clue_1}]'.replace(\"C\", \"Celcius\"))\n",
    "    elif clue_2 in sentence:\n",
    "        print(f'La oracion \"{sentence}\" contiene la palabra: [{clue_2}]'.replace(\"C\", \"Celcius\"))\n",
    "    elif clue_3 in sentence: \n",
    "        print(f'La oracion \"{sentence}\" contiene la palabra: [{clue_3}]'.replace(\"C\", \"Celcius\"))\n"
   ]
  },
  {
   "cell_type": "markdown",
   "metadata": {},
   "source": [
    "### solución"
   ]
  },
  {
   "cell_type": "code",
   "execution_count": 17,
   "metadata": {},
   "outputs": [
    {
     "name": "stdout",
     "output_type": "stream",
     "text": [
      "\n",
      "On average, the Moon moves 4cm away from the Earth every year\n",
      "The highest daylight temperature of the Moon is 127 Celcius.\n"
     ]
    }
   ],
   "source": [
    "text = \"\"\"Interesting facts about the Moon. The Moon is Earth's only satellite. There are several interesting facts about the Moon and how it affects life here on Earth. \n",
    "On average, the Moon moves 4cm away from the Earth every year. This yearly drift is not significant enough to cause immediate effects on Earth. The highest daylight temperature of the Moon is 127 C.\"\"\"\n",
    "\n",
    "sentences = text.split('. ')\n",
    "\n",
    "clues = [\"average\", \"temperature\", \"distance\"]\n",
    "\n",
    "# ciclo para recorrer cada sentence\n",
    "for sentence in sentences:\n",
    "    # otro ciclo para recorrer cada pista\n",
    "    for clue in clues:\n",
    "        # validación\n",
    "        if clue in sentence:\n",
    "            print(sentence.replace(' C', ' Celcius'))\n",
    "            break # por que el break\n"
   ]
  },
  {
   "cell_type": "markdown",
   "metadata": {},
   "source": [
    "## Ejercicio 2: Formateando Cadenas"
   ]
  },
  {
   "cell_type": "code",
   "execution_count": 15,
   "metadata": {},
   "outputs": [
    {
     "name": "stdout",
     "output_type": "stream",
     "text": [
      "Datos acerca de la gravedad en la Moon\n",
      "-------------------------------------------------- \n",
      "Planet Name: Earth\n",
      "Gravity in Ganymede: 0.00162 m/s2\n",
      "\n",
      "Datos acerca de la gravedad en la Moon\n",
      "-------------------------------------------------- \n",
      "Planet Name: Earth\n",
      "Gravity in Ganymede: 0.00162 m/s2\n",
      "\n"
     ]
    }
   ],
   "source": [
    "name = \"Moon\"\n",
    "gravity = 0.00162 # in kms\n",
    "planet = \"Earth\"\n",
    "\n",
    "title = f'Datos acerca de la gravedad en la {name.title()}'\n",
    "\n",
    "templete = f\"\"\"{title}\n",
    "{'-'*50} \n",
    "Planet Name: {planet}\n",
    "Gravity in Ganymede: {gravity} m/s2\n",
    "\"\"\".format(title=title, planet=planet, gravity=gravity*1000)\n",
    "\n",
    "print(templete)\n",
    "\n",
    "print(templete.format(title=title, planet=planet, gravity=gravity*1000))\n",
    "\n"
   ]
  }
 ],
 "metadata": {
  "interpreter": {
   "hash": "31f2aee4e71d21fbe5cf8b01ff0e069b9275f58929596ceb00d14d90e3e16cd6"
  },
  "kernelspec": {
   "display_name": "Python 3.8.2 64-bit",
   "language": "python",
   "name": "python3"
  },
  "language_info": {
   "codemirror_mode": {
    "name": "ipython",
    "version": 3
   },
   "file_extension": ".py",
   "mimetype": "text/x-python",
   "name": "python",
   "nbconvert_exporter": "python",
   "pygments_lexer": "ipython3",
   "version": "3.8.2"
  },
  "orig_nbformat": 4
 },
 "nbformat": 4,
 "nbformat_minor": 2
}
